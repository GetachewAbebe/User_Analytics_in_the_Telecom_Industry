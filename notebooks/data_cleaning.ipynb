{
 "cells": [
  {
   "cell_type": "code",
   "execution_count": 1,
   "metadata": {},
   "outputs": [],
   "source": [
    "import pandas as pd\n",
    "from sqlalchemy import create_engine\n",
    "import os\n",
    "from dotenv import load_dotenv\n",
    "import urllib.parse\n",
    "import numpy as np\n",
    "import matplotlib.pyplot as plt\n",
    "import seaborn as sns\n",
    "from scipy import stats"
   ]
  },
  {
   "cell_type": "code",
   "execution_count": 2,
   "metadata": {},
   "outputs": [],
   "source": [
    "# Load environment variables from .env\n",
    "load_dotenv()\n",
    "# Get PostgreSQL credentials from environment variables\n",
    "username = os.getenv(\"POSTGRES_USERNAME\")\n",
    "password = os.getenv(\"POSTGRES_PASSWORD\")\n",
    "host = os.getenv(\"POSTGRES_HOST\")\n",
    "database_name = os.getenv(\"POSTGRES_DATABASE\")\n",
    "# Encode the password if needed\n",
    "encoded_password = urllib.parse.quote(password)\n",
    "# Create the database URL\n",
    "database_url = f\"postgresql://{username}:{encoded_password}@{host}/{database_name}\"\n",
    "# Create the engine using the database URL\n",
    "engine = create_engine(database_url)"
   ]
  },
  {
   "cell_type": "code",
   "execution_count": 3,
   "metadata": {},
   "outputs": [
    {
     "data": {
      "text/html": [
       "<div>\n",
       "<style scoped>\n",
       "    .dataframe tbody tr th:only-of-type {\n",
       "        vertical-align: middle;\n",
       "    }\n",
       "\n",
       "    .dataframe tbody tr th {\n",
       "        vertical-align: top;\n",
       "    }\n",
       "\n",
       "    .dataframe thead th {\n",
       "        text-align: right;\n",
       "    }\n",
       "</style>\n",
       "<table border=\"1\" class=\"dataframe\">\n",
       "  <thead>\n",
       "    <tr style=\"text-align: right;\">\n",
       "      <th></th>\n",
       "      <th>Bearer Id</th>\n",
       "      <th>Start</th>\n",
       "      <th>Start ms</th>\n",
       "      <th>End</th>\n",
       "      <th>End ms</th>\n",
       "      <th>Dur. (ms)</th>\n",
       "      <th>IMSI</th>\n",
       "      <th>MSISDN/Number</th>\n",
       "      <th>IMEI</th>\n",
       "      <th>Last Location Name</th>\n",
       "      <th>...</th>\n",
       "      <th>Youtube DL (Bytes)</th>\n",
       "      <th>Youtube UL (Bytes)</th>\n",
       "      <th>Netflix DL (Bytes)</th>\n",
       "      <th>Netflix UL (Bytes)</th>\n",
       "      <th>Gaming DL (Bytes)</th>\n",
       "      <th>Gaming UL (Bytes)</th>\n",
       "      <th>Other DL (Bytes)</th>\n",
       "      <th>Other UL (Bytes)</th>\n",
       "      <th>Total UL (Bytes)</th>\n",
       "      <th>Total DL (Bytes)</th>\n",
       "    </tr>\n",
       "  </thead>\n",
       "  <tbody>\n",
       "    <tr>\n",
       "      <th>0</th>\n",
       "      <td>1.311448e+19</td>\n",
       "      <td>4/4/2019 12:01</td>\n",
       "      <td>770.0</td>\n",
       "      <td>4/25/2019 14:35</td>\n",
       "      <td>662.0</td>\n",
       "      <td>1823652.0</td>\n",
       "      <td>2.082014e+14</td>\n",
       "      <td>3.366496e+10</td>\n",
       "      <td>3.552121e+13</td>\n",
       "      <td>9.16456699548519E+015</td>\n",
       "      <td>...</td>\n",
       "      <td>15854611.0</td>\n",
       "      <td>2501332.0</td>\n",
       "      <td>8198936.0</td>\n",
       "      <td>9656251.0</td>\n",
       "      <td>278082303.0</td>\n",
       "      <td>14344150.0</td>\n",
       "      <td>171744450.0</td>\n",
       "      <td>8814393.0</td>\n",
       "      <td>36749741.0</td>\n",
       "      <td>308879636.0</td>\n",
       "    </tr>\n",
       "    <tr>\n",
       "      <th>1</th>\n",
       "      <td>1.311448e+19</td>\n",
       "      <td>4/9/2019 13:04</td>\n",
       "      <td>235.0</td>\n",
       "      <td>4/25/2019 8:15</td>\n",
       "      <td>606.0</td>\n",
       "      <td>1365104.0</td>\n",
       "      <td>2.082019e+14</td>\n",
       "      <td>3.368185e+10</td>\n",
       "      <td>3.579401e+13</td>\n",
       "      <td>L77566A</td>\n",
       "      <td>...</td>\n",
       "      <td>20247395.0</td>\n",
       "      <td>19111729.0</td>\n",
       "      <td>18338413.0</td>\n",
       "      <td>17227132.0</td>\n",
       "      <td>608750074.0</td>\n",
       "      <td>1170709.0</td>\n",
       "      <td>526904238.0</td>\n",
       "      <td>15055145.0</td>\n",
       "      <td>53800391.0</td>\n",
       "      <td>653384965.0</td>\n",
       "    </tr>\n",
       "    <tr>\n",
       "      <th>2</th>\n",
       "      <td>1.311448e+19</td>\n",
       "      <td>4/9/2019 17:42</td>\n",
       "      <td>1.0</td>\n",
       "      <td>4/25/2019 11:58</td>\n",
       "      <td>652.0</td>\n",
       "      <td>1361762.0</td>\n",
       "      <td>2.082003e+14</td>\n",
       "      <td>3.376063e+10</td>\n",
       "      <td>3.528151e+13</td>\n",
       "      <td>D42335A</td>\n",
       "      <td>...</td>\n",
       "      <td>19725661.0</td>\n",
       "      <td>14699576.0</td>\n",
       "      <td>17587794.0</td>\n",
       "      <td>6163408.0</td>\n",
       "      <td>229584621.0</td>\n",
       "      <td>395630.0</td>\n",
       "      <td>410692588.0</td>\n",
       "      <td>4215763.0</td>\n",
       "      <td>27883638.0</td>\n",
       "      <td>279807335.0</td>\n",
       "    </tr>\n",
       "    <tr>\n",
       "      <th>3</th>\n",
       "      <td>1.311448e+19</td>\n",
       "      <td>4/10/2019 0:31</td>\n",
       "      <td>486.0</td>\n",
       "      <td>4/25/2019 7:36</td>\n",
       "      <td>171.0</td>\n",
       "      <td>1321509.0</td>\n",
       "      <td>2.082014e+14</td>\n",
       "      <td>3.375034e+10</td>\n",
       "      <td>3.535661e+13</td>\n",
       "      <td>T21824A</td>\n",
       "      <td>...</td>\n",
       "      <td>21388122.0</td>\n",
       "      <td>15146643.0</td>\n",
       "      <td>13994646.0</td>\n",
       "      <td>1097942.0</td>\n",
       "      <td>799538153.0</td>\n",
       "      <td>10849722.0</td>\n",
       "      <td>749039933.0</td>\n",
       "      <td>12797283.0</td>\n",
       "      <td>43324218.0</td>\n",
       "      <td>846028530.0</td>\n",
       "    </tr>\n",
       "    <tr>\n",
       "      <th>4</th>\n",
       "      <td>1.311448e+19</td>\n",
       "      <td>4/12/2019 20:10</td>\n",
       "      <td>565.0</td>\n",
       "      <td>4/25/2019 10:40</td>\n",
       "      <td>954.0</td>\n",
       "      <td>1089009.0</td>\n",
       "      <td>2.082014e+14</td>\n",
       "      <td>3.369980e+10</td>\n",
       "      <td>3.540701e+13</td>\n",
       "      <td>D88865A</td>\n",
       "      <td>...</td>\n",
       "      <td>15259380.0</td>\n",
       "      <td>18962873.0</td>\n",
       "      <td>17124581.0</td>\n",
       "      <td>415218.0</td>\n",
       "      <td>527707248.0</td>\n",
       "      <td>3529801.0</td>\n",
       "      <td>550709500.0</td>\n",
       "      <td>13910322.0</td>\n",
       "      <td>38542814.0</td>\n",
       "      <td>569138589.0</td>\n",
       "    </tr>\n",
       "    <tr>\n",
       "      <th>5</th>\n",
       "      <td>1.311448e+19</td>\n",
       "      <td>4/12/2019 21:37</td>\n",
       "      <td>439.0</td>\n",
       "      <td>4/25/2019 8:08</td>\n",
       "      <td>553.0</td>\n",
       "      <td>1074638.0</td>\n",
       "      <td>2.082014e+14</td>\n",
       "      <td>3.366819e+10</td>\n",
       "      <td>3.529841e+13</td>\n",
       "      <td>T89132C</td>\n",
       "      <td>...</td>\n",
       "      <td>21332918.0</td>\n",
       "      <td>2611113.0</td>\n",
       "      <td>7345361.0</td>\n",
       "      <td>6536448.0</td>\n",
       "      <td>710293538.0</td>\n",
       "      <td>13167974.0</td>\n",
       "      <td>654978277.0</td>\n",
       "      <td>4436057.0</td>\n",
       "      <td>30307754.0</td>\n",
       "      <td>754452212.0</td>\n",
       "    </tr>\n",
       "    <tr>\n",
       "      <th>6</th>\n",
       "      <td>1.311448e+19</td>\n",
       "      <td>4/13/2019 8:41</td>\n",
       "      <td>612.0</td>\n",
       "      <td>4/25/2019 8:16</td>\n",
       "      <td>168.0</td>\n",
       "      <td>1035261.0</td>\n",
       "      <td>2.082014e+14</td>\n",
       "      <td>3.366537e+10</td>\n",
       "      <td>8.676270e+13</td>\n",
       "      <td>9.16456701058919E+015</td>\n",
       "      <td>...</td>\n",
       "      <td>7234465.0</td>\n",
       "      <td>1886295.0</td>\n",
       "      <td>13231006.0</td>\n",
       "      <td>17981760.0</td>\n",
       "      <td>44796223.0</td>\n",
       "      <td>14084934.0</td>\n",
       "      <td>803653557.0</td>\n",
       "      <td>10649768.0</td>\n",
       "      <td>47925246.0</td>\n",
       "      <td>70562047.0</td>\n",
       "    </tr>\n",
       "    <tr>\n",
       "      <th>7</th>\n",
       "      <td>1.304243e+19</td>\n",
       "      <td>4/14/2019 2:11</td>\n",
       "      <td>592.0</td>\n",
       "      <td>4/25/2019 2:26</td>\n",
       "      <td>512.0</td>\n",
       "      <td>951292.0</td>\n",
       "      <td>2.082010e+14</td>\n",
       "      <td>3.376349e+10</td>\n",
       "      <td>8.654640e+13</td>\n",
       "      <td>CELL_208_20_520025_1</td>\n",
       "      <td>...</td>\n",
       "      <td>12189786.0</td>\n",
       "      <td>19735183.0</td>\n",
       "      <td>6858496.0</td>\n",
       "      <td>12075206.0</td>\n",
       "      <td>748906189.0</td>\n",
       "      <td>16149622.0</td>\n",
       "      <td>537601820.0</td>\n",
       "      <td>7714657.0</td>\n",
       "      <td>58813016.0</td>\n",
       "      <td>775350343.0</td>\n",
       "    </tr>\n",
       "    <tr>\n",
       "      <th>8</th>\n",
       "      <td>1.311448e+19</td>\n",
       "      <td>4/14/2019 12:48</td>\n",
       "      <td>121.0</td>\n",
       "      <td>4/25/2019 10:22</td>\n",
       "      <td>960.0</td>\n",
       "      <td>941634.0</td>\n",
       "      <td>2.082014e+14</td>\n",
       "      <td>3.369874e+10</td>\n",
       "      <td>3.556241e+13</td>\n",
       "      <td>T42084A</td>\n",
       "      <td>...</td>\n",
       "      <td>18436641.0</td>\n",
       "      <td>10860867.0</td>\n",
       "      <td>10587264.0</td>\n",
       "      <td>8467177.0</td>\n",
       "      <td>821671285.0</td>\n",
       "      <td>6548349.0</td>\n",
       "      <td>172920486.0</td>\n",
       "      <td>14749031.0</td>\n",
       "      <td>42363146.0</td>\n",
       "      <td>861612261.0</td>\n",
       "    </tr>\n",
       "    <tr>\n",
       "      <th>9</th>\n",
       "      <td>1.304243e+19</td>\n",
       "      <td>4/15/2019 0:32</td>\n",
       "      <td>0.0</td>\n",
       "      <td>4/25/2019 0:40</td>\n",
       "      <td>284.0</td>\n",
       "      <td>864482.0</td>\n",
       "      <td>2.082003e+14</td>\n",
       "      <td>3.365922e+10</td>\n",
       "      <td>3.557311e+13</td>\n",
       "      <td>L20434C</td>\n",
       "      <td>...</td>\n",
       "      <td>16338345.0</td>\n",
       "      <td>6573194.0</td>\n",
       "      <td>12211149.0</td>\n",
       "      <td>974201.0</td>\n",
       "      <td>811355188.0</td>\n",
       "      <td>1591237.0</td>\n",
       "      <td>64856042.0</td>\n",
       "      <td>12815208.0</td>\n",
       "      <td>22417975.0</td>\n",
       "      <td>850570347.0</td>\n",
       "    </tr>\n",
       "  </tbody>\n",
       "</table>\n",
       "<p>10 rows × 55 columns</p>\n",
       "</div>"
      ],
      "text/plain": [
       "      Bearer Id            Start  Start ms              End  End ms  \\\n",
       "0  1.311448e+19   4/4/2019 12:01     770.0  4/25/2019 14:35   662.0   \n",
       "1  1.311448e+19   4/9/2019 13:04     235.0   4/25/2019 8:15   606.0   \n",
       "2  1.311448e+19   4/9/2019 17:42       1.0  4/25/2019 11:58   652.0   \n",
       "3  1.311448e+19   4/10/2019 0:31     486.0   4/25/2019 7:36   171.0   \n",
       "4  1.311448e+19  4/12/2019 20:10     565.0  4/25/2019 10:40   954.0   \n",
       "5  1.311448e+19  4/12/2019 21:37     439.0   4/25/2019 8:08   553.0   \n",
       "6  1.311448e+19   4/13/2019 8:41     612.0   4/25/2019 8:16   168.0   \n",
       "7  1.304243e+19   4/14/2019 2:11     592.0   4/25/2019 2:26   512.0   \n",
       "8  1.311448e+19  4/14/2019 12:48     121.0  4/25/2019 10:22   960.0   \n",
       "9  1.304243e+19   4/15/2019 0:32       0.0   4/25/2019 0:40   284.0   \n",
       "\n",
       "   Dur. (ms)          IMSI  MSISDN/Number          IMEI  \\\n",
       "0  1823652.0  2.082014e+14   3.366496e+10  3.552121e+13   \n",
       "1  1365104.0  2.082019e+14   3.368185e+10  3.579401e+13   \n",
       "2  1361762.0  2.082003e+14   3.376063e+10  3.528151e+13   \n",
       "3  1321509.0  2.082014e+14   3.375034e+10  3.535661e+13   \n",
       "4  1089009.0  2.082014e+14   3.369980e+10  3.540701e+13   \n",
       "5  1074638.0  2.082014e+14   3.366819e+10  3.529841e+13   \n",
       "6  1035261.0  2.082014e+14   3.366537e+10  8.676270e+13   \n",
       "7   951292.0  2.082010e+14   3.376349e+10  8.654640e+13   \n",
       "8   941634.0  2.082014e+14   3.369874e+10  3.556241e+13   \n",
       "9   864482.0  2.082003e+14   3.365922e+10  3.557311e+13   \n",
       "\n",
       "      Last Location Name  ...  Youtube DL (Bytes)  Youtube UL (Bytes)  \\\n",
       "0  9.16456699548519E+015  ...          15854611.0           2501332.0   \n",
       "1                L77566A  ...          20247395.0          19111729.0   \n",
       "2                D42335A  ...          19725661.0          14699576.0   \n",
       "3                T21824A  ...          21388122.0          15146643.0   \n",
       "4                D88865A  ...          15259380.0          18962873.0   \n",
       "5                T89132C  ...          21332918.0           2611113.0   \n",
       "6  9.16456701058919E+015  ...           7234465.0           1886295.0   \n",
       "7   CELL_208_20_520025_1  ...          12189786.0          19735183.0   \n",
       "8                T42084A  ...          18436641.0          10860867.0   \n",
       "9                L20434C  ...          16338345.0           6573194.0   \n",
       "\n",
       "   Netflix DL (Bytes)  Netflix UL (Bytes)  Gaming DL (Bytes)  \\\n",
       "0           8198936.0           9656251.0        278082303.0   \n",
       "1          18338413.0          17227132.0        608750074.0   \n",
       "2          17587794.0           6163408.0        229584621.0   \n",
       "3          13994646.0           1097942.0        799538153.0   \n",
       "4          17124581.0            415218.0        527707248.0   \n",
       "5           7345361.0           6536448.0        710293538.0   \n",
       "6          13231006.0          17981760.0         44796223.0   \n",
       "7           6858496.0          12075206.0        748906189.0   \n",
       "8          10587264.0           8467177.0        821671285.0   \n",
       "9          12211149.0            974201.0        811355188.0   \n",
       "\n",
       "   Gaming UL (Bytes)  Other DL (Bytes)  Other UL (Bytes)  Total UL (Bytes)  \\\n",
       "0         14344150.0       171744450.0         8814393.0        36749741.0   \n",
       "1          1170709.0       526904238.0        15055145.0        53800391.0   \n",
       "2           395630.0       410692588.0         4215763.0        27883638.0   \n",
       "3         10849722.0       749039933.0        12797283.0        43324218.0   \n",
       "4          3529801.0       550709500.0        13910322.0        38542814.0   \n",
       "5         13167974.0       654978277.0         4436057.0        30307754.0   \n",
       "6         14084934.0       803653557.0        10649768.0        47925246.0   \n",
       "7         16149622.0       537601820.0         7714657.0        58813016.0   \n",
       "8          6548349.0       172920486.0        14749031.0        42363146.0   \n",
       "9          1591237.0        64856042.0        12815208.0        22417975.0   \n",
       "\n",
       "   Total DL (Bytes)  \n",
       "0       308879636.0  \n",
       "1       653384965.0  \n",
       "2       279807335.0  \n",
       "3       846028530.0  \n",
       "4       569138589.0  \n",
       "5       754452212.0  \n",
       "6        70562047.0  \n",
       "7       775350343.0  \n",
       "8       861612261.0  \n",
       "9       850570347.0  \n",
       "\n",
       "[10 rows x 55 columns]"
      ]
     },
     "execution_count": 3,
     "metadata": {},
     "output_type": "execute_result"
    }
   ],
   "source": [
    "# Define the SQL query to retrieve the data from the database\n",
    "query = \"SELECT * FROM xdr_data\"\n",
    "\n",
    "# Load the data into a pandas DataFrame\n",
    "df = pd.read_sql(query, engine)\n",
    "\n",
    "# Example of EDA\n",
    "df.head(10) # Display the first few rows of the DataFrame"
   ]
  },
  {
   "cell_type": "code",
   "execution_count": 39,
   "metadata": {},
   "outputs": [
    {
     "data": {
      "text/plain": [
       "(150001, 55)"
      ]
     },
     "execution_count": 39,
     "metadata": {},
     "output_type": "execute_result"
    }
   ],
   "source": [
    "# Display the Shape of our Data\n",
    "df.shape"
   ]
  },
  {
   "cell_type": "code",
   "execution_count": 4,
   "metadata": {},
   "outputs": [
    {
     "data": {
      "text/plain": [
       "count    1.489350e+05\n",
       "mean     4.188282e+10\n",
       "std      2.447443e+12\n",
       "min      3.360100e+10\n",
       "25%      3.365130e+10\n",
       "50%      3.366371e+10\n",
       "75%      3.368349e+10\n",
       "max      8.823971e+14\n",
       "Name: MSISDN/Number, dtype: float64"
      ]
     },
     "execution_count": 4,
     "metadata": {},
     "output_type": "execute_result"
    }
   ],
   "source": [
    "# Describe the data using one column\n",
    "df[\"MSISDN/Number\"].describe()"
   ]
  },
  {
   "cell_type": "code",
   "execution_count": 5,
   "metadata": {},
   "outputs": [],
   "source": [
    "# how many missing values exist or better still what is the % of missing values in the dataset?\n",
    "def percent_missing(df):\n",
    "\n",
    "    # Calculate total number of cells in dataframe\n",
    "    totalCells = np.product(df.shape)\n",
    "\n",
    "    # Count number of missing values per column\n",
    "    missingCount = df.isnull().sum()\n",
    "\n",
    "    # Calculate total number of missing values\n",
    "    totalMissing = missingCount.sum()\n",
    "\n",
    "    # Calculate percentage of missing values\n",
    "    print(\"The dataset contains\", round(((totalMissing/totalCells) * 100), 2), \"%\", \"missing values.\")"
   ]
  },
  {
   "cell_type": "code",
   "execution_count": 6,
   "metadata": {},
   "outputs": [
    {
     "name": "stdout",
     "output_type": "stream",
     "text": [
      "The dataset contains 12.5 % missing values.\n"
     ]
    },
    {
     "name": "stderr",
     "output_type": "stream",
     "text": [
      "/tmp/ipykernel_7971/405722216.py:2: DeprecationWarning: `product` is deprecated as of NumPy 1.25.0, and will be removed in NumPy 2.0. Please use `prod` instead.\n",
      "  percent_missing(df)\n"
     ]
    }
   ],
   "source": [
    "# percent missing of total data\n",
    "percent_missing(df)"
   ]
  },
  {
   "cell_type": "code",
   "execution_count": 7,
   "metadata": {},
   "outputs": [
    {
     "data": {
      "text/plain": [
       "Bearer Id                                      991\n",
       "Start                                            1\n",
       "Start ms                                         1\n",
       "End                                              1\n",
       "End ms                                           1\n",
       "Dur. (ms)                                        1\n",
       "IMSI                                           570\n",
       "MSISDN/Number                                 1066\n",
       "IMEI                                           572\n",
       "Last Location Name                            1153\n",
       "Avg RTT DL (ms)                              27829\n",
       "Avg RTT UL (ms)                              27812\n",
       "Avg Bearer TP DL (kbps)                          1\n",
       "Avg Bearer TP UL (kbps)                          1\n",
       "TCP DL Retrans. Vol (Bytes)                  88146\n",
       "TCP UL Retrans. Vol (Bytes)                  96649\n",
       "DL TP < 50 Kbps (%)                            754\n",
       "50 Kbps < DL TP < 250 Kbps (%)                 754\n",
       "250 Kbps < DL TP < 1 Mbps (%)                  754\n",
       "DL TP > 1 Mbps (%)                             754\n",
       "UL TP < 10 Kbps (%)                            792\n",
       "10 Kbps < UL TP < 50 Kbps (%)                  792\n",
       "50 Kbps < UL TP < 300 Kbps (%)                 792\n",
       "UL TP > 300 Kbps (%)                           792\n",
       "HTTP DL (Bytes)                              81474\n",
       "HTTP UL (Bytes)                              81810\n",
       "Activity Duration DL (ms)                        1\n",
       "Activity Duration UL (ms)                        1\n",
       "Dur. (ms).1                                      1\n",
       "Handset Manufacturer                           572\n",
       "Handset Type                                   572\n",
       "Nb of sec with 125000B < Vol DL              97538\n",
       "Nb of sec with 1250B < Vol UL < 6250B        92894\n",
       "Nb of sec with 31250B < Vol DL < 125000B     93586\n",
       "Nb of sec with 37500B < Vol UL              130254\n",
       "Nb of sec with 6250B < Vol DL < 31250B       88317\n",
       "Nb of sec with 6250B < Vol UL < 37500B      111843\n",
       "Nb of sec with Vol DL < 6250B                  755\n",
       "Nb of sec with Vol UL < 1250B                  793\n",
       "Social Media DL (Bytes)                          0\n",
       "Social Media UL (Bytes)                          0\n",
       "Google DL (Bytes)                                0\n",
       "Google UL (Bytes)                                0\n",
       "Email DL (Bytes)                                 0\n",
       "Email UL (Bytes)                                 0\n",
       "Youtube DL (Bytes)                               0\n",
       "Youtube UL (Bytes)                               0\n",
       "Netflix DL (Bytes)                               0\n",
       "Netflix UL (Bytes)                               0\n",
       "Gaming DL (Bytes)                                0\n",
       "Gaming UL (Bytes)                                0\n",
       "Other DL (Bytes)                                 0\n",
       "Other UL (Bytes)                                 0\n",
       "Total UL (Bytes)                                 1\n",
       "Total DL (Bytes)                                 1\n",
       "dtype: int64"
      ]
     },
     "execution_count": 7,
     "metadata": {},
     "output_type": "execute_result"
    }
   ],
   "source": [
    "# Now which column(s) has missing values\n",
    "df.isna().sum()\n"
   ]
  },
  {
   "cell_type": "code",
   "execution_count": 8,
   "metadata": {},
   "outputs": [
    {
     "data": {
      "image/png": "[encoded data removed]",
      "text/plain": [
       "<Figure size 640x480 with 1 Axes>"
      ]
     },
     "metadata": {},
     "output_type": "display_data"
    }
   ],
   "source": [
    "# Calculate the count of missing values for each column\n",
    "missing_counts = df.isna().sum()\n",
    "\n",
    "# Create a scatter plot\n",
    "plt.scatter(missing_counts.index, missing_counts.values)\n",
    "plt.xlabel('Column Name')\n",
    "plt.ylabel('Count of Missing Values')\n",
    "plt.title('Missing Values in Each Column')\n",
    "plt.show()"
   ]
  },
  {
   "cell_type": "code",
   "execution_count": 9,
   "metadata": {},
   "outputs": [
    {
     "data": {
      "text/plain": [
       "(150001, 47)"
      ]
     },
     "execution_count": 9,
     "metadata": {},
     "output_type": "execute_result"
    }
   ],
   "source": [
    "# 1. drop columns with more than 30% missing values\n",
    "df_clean = df.drop([\"Nb of sec with 6250B < Vol UL < 37500B\", \"Nb of sec with 6250B < Vol DL < 31250B\", \"Nb of sec with 37500B < Vol UL\", \"Nb of sec with 31250B < Vol DL < 125000B\", \"Nb of sec with 1250B < Vol UL < 6250B\", \"Nb of sec with 125000B < Vol DL\", \"HTTP DL (Bytes)\", \"HTTP UL (Bytes)\"], axis=1)\n",
    "df_clean.shape"
   ]
  },
  {
   "cell_type": "code",
   "execution_count": 47,
   "metadata": {},
   "outputs": [
    {
     "data": {
      "text/plain": [
       "Bearer Id                           991\n",
       "Start                                 1\n",
       "Start ms                              1\n",
       "End                                   1\n",
       "End ms                                1\n",
       "Dur. (ms)                             1\n",
       "IMSI                                570\n",
       "MSISDN/Number                      1066\n",
       "IMEI                                572\n",
       "Last Location Name                 1153\n",
       "Avg RTT DL (ms)                   27829\n",
       "Avg RTT UL (ms)                   27812\n",
       "Avg Bearer TP DL (kbps)               1\n",
       "Avg Bearer TP UL (kbps)               1\n",
       "TCP DL Retrans. Vol (Bytes)       88146\n",
       "TCP UL Retrans. Vol (Bytes)       96649\n",
       "DL TP < 50 Kbps (%)                 754\n",
       "50 Kbps < DL TP < 250 Kbps (%)      754\n",
       "250 Kbps < DL TP < 1 Mbps (%)       754\n",
       "DL TP > 1 Mbps (%)                  754\n",
       "UL TP < 10 Kbps (%)                 792\n",
       "10 Kbps < UL TP < 50 Kbps (%)       792\n",
       "50 Kbps < UL TP < 300 Kbps (%)      792\n",
       "UL TP > 300 Kbps (%)                792\n",
       "Activity Duration DL (ms)             1\n",
       "Activity Duration UL (ms)             1\n",
       "Dur. (ms).1                           1\n",
       "Handset Manufacturer                572\n",
       "Handset Type                        572\n",
       "Nb of sec with Vol DL < 6250B       755\n",
       "Nb of sec with Vol UL < 1250B       793\n",
       "Social Media DL (Bytes)               0\n",
       "Social Media UL (Bytes)               0\n",
       "Google DL (Bytes)                     0\n",
       "Google UL (Bytes)                     0\n",
       "Email DL (Bytes)                      0\n",
       "Email UL (Bytes)                      0\n",
       "Youtube DL (Bytes)                    0\n",
       "Youtube UL (Bytes)                    0\n",
       "Netflix DL (Bytes)                    0\n",
       "Netflix UL (Bytes)                    0\n",
       "Gaming DL (Bytes)                     0\n",
       "Gaming UL (Bytes)                     0\n",
       "Other DL (Bytes)                      0\n",
       "Other UL (Bytes)                      0\n",
       "Total UL (Bytes)                      1\n",
       "Total DL (Bytes)                      1\n",
       "dtype: int64"
      ]
     },
     "execution_count": 47,
     "metadata": {},
     "output_type": "execute_result"
    }
   ],
   "source": [
    "# Sum of Values with Null\n",
    "df_clean.isna().sum()"
   ]
  },
  {
   "cell_type": "code",
   "execution_count": 10,
   "metadata": {},
   "outputs": [
    {
     "name": "stderr",
     "output_type": "stream",
     "text": [
      "/tmp/ipykernel_7971/134694278.py:2: FutureWarning: A value is trying to be set on a copy of a DataFrame or Series through chained assignment using an inplace method.\n",
      "The behavior will change in pandas 3.0. This inplace method will never work because the intermediate object on which we are setting values always behaves as a copy.\n",
      "\n",
      "For example, when doing 'df[col].method(value, inplace=True)', try using 'df.method({col: value}, inplace=True)' or df[col] = df[col].method(value) instead, to perform the operation inplace on the original object.\n",
      "\n",
      "\n",
      "  df_clean['TCP DL Retrans. Vol (Bytes)'].fillna(method='ffill', inplace=True)\n",
      "/tmp/ipykernel_7971/134694278.py:2: FutureWarning: Series.fillna with 'method' is deprecated and will raise in a future version. Use obj.ffill() or obj.bfill() instead.\n",
      "  df_clean['TCP DL Retrans. Vol (Bytes)'].fillna(method='ffill', inplace=True)\n",
      "/tmp/ipykernel_7971/134694278.py:3: FutureWarning: A value is trying to be set on a copy of a DataFrame or Series through chained assignment using an inplace method.\n",
      "The behavior will change in pandas 3.0. This inplace method will never work because the intermediate object on which we are setting values always behaves as a copy.\n",
      "\n",
      "For example, when doing 'df[col].method(value, inplace=True)', try using 'df.method({col: value}, inplace=True)' or df[col] = df[col].method(value) instead, to perform the operation inplace on the original object.\n",
      "\n",
      "\n",
      "  df_clean['TCP UL Retrans. Vol (Bytes)'].fillna(method='bfill', inplace=True)\n",
      "/tmp/ipykernel_7971/134694278.py:3: FutureWarning: Series.fillna with 'method' is deprecated and will raise in a future version. Use obj.ffill() or obj.bfill() instead.\n",
      "  df_clean['TCP UL Retrans. Vol (Bytes)'].fillna(method='bfill', inplace=True)\n",
      "/tmp/ipykernel_7971/134694278.py:4: FutureWarning: A value is trying to be set on a copy of a DataFrame or Series through chained assignment using an inplace method.\n",
      "The behavior will change in pandas 3.0. This inplace method will never work because the intermediate object on which we are setting values always behaves as a copy.\n",
      "\n",
      "For example, when doing 'df[col].method(value, inplace=True)', try using 'df.method({col: value}, inplace=True)' or df[col] = df[col].method(value) instead, to perform the operation inplace on the original object.\n",
      "\n",
      "\n",
      "  df_clean['Avg RTT UL (ms)'].fillna(method='ffill', inplace=True)\n",
      "/tmp/ipykernel_7971/134694278.py:4: FutureWarning: Series.fillna with 'method' is deprecated and will raise in a future version. Use obj.ffill() or obj.bfill() instead.\n",
      "  df_clean['Avg RTT UL (ms)'].fillna(method='ffill', inplace=True)\n",
      "/tmp/ipykernel_7971/134694278.py:5: FutureWarning: A value is trying to be set on a copy of a DataFrame or Series through chained assignment using an inplace method.\n",
      "The behavior will change in pandas 3.0. This inplace method will never work because the intermediate object on which we are setting values always behaves as a copy.\n",
      "\n",
      "For example, when doing 'df[col].method(value, inplace=True)', try using 'df.method({col: value}, inplace=True)' or df[col] = df[col].method(value) instead, to perform the operation inplace on the original object.\n",
      "\n",
      "\n",
      "  df_clean['Avg RTT DL (ms)'].fillna(method='bfill', inplace=True)\n",
      "/tmp/ipykernel_7971/134694278.py:5: FutureWarning: Series.fillna with 'method' is deprecated and will raise in a future version. Use obj.ffill() or obj.bfill() instead.\n",
      "  df_clean['Avg RTT DL (ms)'].fillna(method='bfill', inplace=True)\n"
     ]
    }
   ],
   "source": [
    "# fill missing with ffill method for columns\n",
    "df_clean['TCP DL Retrans. Vol (Bytes)'].fillna(method='ffill', inplace=True)\n",
    "df_clean['TCP UL Retrans. Vol (Bytes)'].fillna(method='bfill', inplace=True)\n",
    "df_clean['Avg RTT UL (ms)'].fillna(method='ffill', inplace=True)\n",
    "df_clean['Avg RTT DL (ms)'].fillna(method='bfill', inplace=True)\n"
   ]
  },
  {
   "cell_type": "code",
   "execution_count": 11,
   "metadata": {},
   "outputs": [
    {
     "data": {
      "text/plain": [
       "Bearer Id                          991\n",
       "Start                                1\n",
       "Start ms                             1\n",
       "End                                  1\n",
       "End ms                               1\n",
       "Dur. (ms)                            1\n",
       "IMSI                               570\n",
       "MSISDN/Number                     1066\n",
       "IMEI                               572\n",
       "Last Location Name                1153\n",
       "Avg RTT DL (ms)                      1\n",
       "Avg RTT UL (ms)                      0\n",
       "Avg Bearer TP DL (kbps)              1\n",
       "Avg Bearer TP UL (kbps)              1\n",
       "TCP DL Retrans. Vol (Bytes)          7\n",
       "TCP UL Retrans. Vol (Bytes)          5\n",
       "DL TP < 50 Kbps (%)                754\n",
       "50 Kbps < DL TP < 250 Kbps (%)     754\n",
       "250 Kbps < DL TP < 1 Mbps (%)      754\n",
       "DL TP > 1 Mbps (%)                 754\n",
       "UL TP < 10 Kbps (%)                792\n",
       "10 Kbps < UL TP < 50 Kbps (%)      792\n",
       "50 Kbps < UL TP < 300 Kbps (%)     792\n",
       "UL TP > 300 Kbps (%)               792\n",
       "Activity Duration DL (ms)            1\n",
       "Activity Duration UL (ms)            1\n",
       "Dur. (ms).1                          1\n",
       "Handset Manufacturer               572\n",
       "Handset Type                       572\n",
       "Nb of sec with Vol DL < 6250B      755\n",
       "Nb of sec with Vol UL < 1250B      793\n",
       "Social Media DL (Bytes)              0\n",
       "Social Media UL (Bytes)              0\n",
       "Google DL (Bytes)                    0\n",
       "Google UL (Bytes)                    0\n",
       "Email DL (Bytes)                     0\n",
       "Email UL (Bytes)                     0\n",
       "Youtube DL (Bytes)                   0\n",
       "Youtube UL (Bytes)                   0\n",
       "Netflix DL (Bytes)                   0\n",
       "Netflix UL (Bytes)                   0\n",
       "Gaming DL (Bytes)                    0\n",
       "Gaming UL (Bytes)                    0\n",
       "Other DL (Bytes)                     0\n",
       "Other UL (Bytes)                     0\n",
       "Total UL (Bytes)                     1\n",
       "Total DL (Bytes)                     1\n",
       "dtype: int64"
      ]
     },
     "execution_count": 11,
     "metadata": {},
     "output_type": "execute_result"
    }
   ],
   "source": [
    "# Sum of Values with Null\n",
    "df_clean.isna().sum()"
   ]
  },
  {
   "cell_type": "code",
   "execution_count": 12,
   "metadata": {},
   "outputs": [
    {
     "name": "stdout",
     "output_type": "stream",
     "text": [
      "The dataset contains 0.19 % missing values.\n"
     ]
    },
    {
     "name": "stderr",
     "output_type": "stream",
     "text": [
      "/tmp/ipykernel_7971/2605831240.py:2: DeprecationWarning: `product` is deprecated as of NumPy 1.25.0, and will be removed in NumPy 2.0. Please use `prod` instead.\n",
      "  percent_missing(df_clean)\n"
     ]
    }
   ],
   "source": [
    "# Display the Missing Percent in our Data\n",
    "percent_missing(df_clean)"
   ]
  },
  {
   "cell_type": "code",
   "execution_count": 13,
   "metadata": {},
   "outputs": [
    {
     "data": {
      "image/png": "[encoded data removed]",
      "text/plain": [
       "<Figure size 1000x600 with 1 Axes>"
      ]
     },
     "metadata": {},
     "output_type": "display_data"
    }
   ],
   "source": [
    "# Assuming df_clean is your DataFrame\n",
    "columns_of_interest = [\"Avg RTT DL (ms)\", \"Avg RTT UL (ms)\", \"Avg Bearer TP DL (kbps)\", \"Avg Bearer TP UL (kbps)\"]\n",
    "# Create a boxplot\n",
    "plt.figure(figsize=(10, 6))\n",
    "sns.boxplot(data=df_clean[columns_of_interest])\n",
    "plt.title('Boxplot of Network Performance Metrics')\n",
    "plt.ylabel('Values')\n",
    "plt.show()\n"
   ]
  },
  {
   "cell_type": "code",
   "execution_count": 14,
   "metadata": {},
   "outputs": [
    {
     "name": "stdout",
     "output_type": "stream",
     "text": [
      "           Bearer Id            Start  Start ms              End  End ms  \\\n",
      "58      7.277826e+18  4/20/2019 14:08     136.0   4/25/2019 0:54    79.0   \n",
      "72      7.277826e+18  4/21/2019 13:57     724.0   4/25/2019 0:54    79.0   \n",
      "184     7.349883e+18   4/23/2019 5:23     145.0   4/25/2019 0:01   486.0   \n",
      "472     6.917538e+18  4/23/2019 23:08     198.0  4/24/2019 23:08    51.0   \n",
      "595     7.277826e+18   4/24/2019 0:03     240.0   4/25/2019 0:02   503.0   \n",
      "...              ...              ...       ...              ...     ...   \n",
      "149693  7.277826e+18   4/29/2019 7:25     179.0   4/30/2019 7:25    29.0   \n",
      "149856  7.277826e+18   4/29/2019 7:27     430.0   4/30/2019 4:25   971.0   \n",
      "149857  1.311448e+19   4/29/2019 7:27     560.0  4/30/2019 11:31   964.0   \n",
      "149955  7.349883e+18   4/29/2019 7:28     178.0   4/30/2019 9:49   555.0   \n",
      "149956  7.349883e+18   4/29/2019 7:28     849.0  4/30/2019 13:52   906.0   \n",
      "\n",
      "        Dur. (ms)          IMSI  MSISDN/Number          IMEI  \\\n",
      "58       384341.0  2.082095e+14   3.366913e+10  3.540531e+13   \n",
      "72       298626.0  2.082095e+14   3.366913e+10  3.540531e+13   \n",
      "184      153474.0  2.082015e+14   3.362785e+10  3.529881e+13   \n",
      "472       86399.0  2.082017e+14   3.366092e+10  3.515541e+13   \n",
      "595       86345.0  2.082010e+14            NaN  3.579401e+13   \n",
      "...           ...           ...            ...           ...   \n",
      "149693    86405.0  2.082014e+14   3.366017e+10  3.564571e+13   \n",
      "149856    75507.0  2.082014e+14            NaN  3.584941e+13   \n",
      "149857   101047.0  2.082014e+14   3.361703e+10  3.519101e+13   \n",
      "149955    94861.0  2.082021e+14   3.366646e+10  8.611970e+13   \n",
      "149956   109422.0  2.082019e+14   3.365009e+10  3.537731e+13   \n",
      "\n",
      "       Last Location Name  ...  Youtube DL (Bytes)  Youtube UL (Bytes)  \\\n",
      "58                T86956A  ...           7758278.0           2690075.0   \n",
      "72                T86956A  ...           6740872.0           3322553.0   \n",
      "184               T73601B  ...            674991.0          20172151.0   \n",
      "472               U51842A  ...          10104548.0           5440509.0   \n",
      "595               T94442B  ...           7119212.0          14154842.0   \n",
      "...                   ...  ...                 ...                 ...   \n",
      "149693            T94430B  ...           7613230.0          15853902.0   \n",
      "149856            T89406B  ...          21282741.0          17080751.0   \n",
      "149857            T79735B  ...          21190267.0           8968644.0   \n",
      "149955            L12757A  ...           4711484.0           7701430.0   \n",
      "149956            D17007A  ...          13912256.0          12772381.0   \n",
      "\n",
      "        Netflix DL (Bytes)  Netflix UL (Bytes)  Gaming DL (Bytes)  \\\n",
      "58               4193579.0           7356758.0        551768053.0   \n",
      "72              14288648.0           2003842.0        828682481.0   \n",
      "184             23178032.0          20112922.0        707218817.0   \n",
      "472             17122653.0           3084055.0        141674123.0   \n",
      "595              2129866.0           2083121.0        471629970.0   \n",
      "...                    ...                 ...                ...   \n",
      "149693          20456776.0          16620959.0        659548735.0   \n",
      "149856          17361240.0          17821994.0         27260054.0   \n",
      "149857           9990993.0            185941.0        689903781.0   \n",
      "149955          11584178.0          12794878.0        415064689.0   \n",
      "149956          11132498.0          15166635.0        556236379.0   \n",
      "\n",
      "        Gaming UL (Bytes)  Other DL (Bytes)  Other UL (Bytes)  \\\n",
      "58              2333567.0         4652246.0         9798236.0   \n",
      "72             11918077.0       543039111.0        10996641.0   \n",
      "184             7723026.0       636745313.0        15212202.0   \n",
      "472            16517945.0       130536550.0         6721261.0   \n",
      "595            14513168.0       192184123.0          270704.0   \n",
      "...                   ...               ...               ...   \n",
      "149693         11759212.0       446335772.0         3519933.0   \n",
      "149856          8703598.0       704004933.0        15961768.0   \n",
      "149857         11013466.0       222300554.0         8765177.0   \n",
      "149955          4387190.0       682964355.0         3946915.0   \n",
      "149956          2531417.0       285087000.0        12670382.0   \n",
      "\n",
      "        Total UL (Bytes)  Total DL (Bytes)  \n",
      "58            26252398.0       572918026.0  \n",
      "72            32244625.0       863513434.0  \n",
      "184           63772088.0       737351705.0  \n",
      "472           32603489.0       180725376.0  \n",
      "595           31486969.0       490241761.0  \n",
      "...                  ...               ...  \n",
      "149693        50355794.0       699775835.0  \n",
      "149856        63397129.0        72463391.0  \n",
      "149857        29486065.0       736305823.0  \n",
      "149955        31779790.0       435410468.0  \n",
      "149956        44540385.0       591405282.0  \n",
      "\n",
      "[870 rows x 47 columns]\n"
     ]
    }
   ],
   "source": [
    "# Assuming df_clean is your DataFrame\n",
    "columns_of_interest = [\"Avg RTT DL (ms)\", \"Avg RTT UL (ms)\", \"Avg Bearer TP DL (kbps)\", \"Avg Bearer TP UL (kbps)\"]\n",
    "\n",
    "# Calculate Z-scores\n",
    "z_scores = stats.zscore(df_clean[columns_of_interest])\n",
    "\n",
    "# Set a threshold for outlier detection\n",
    "threshold = 3\n",
    "\n",
    "# Identify outliers\n",
    "outliers = (z_scores > threshold).any(axis=1)\n",
    "\n",
    "# Display the rows with outliers\n",
    "outlier_rows = df_clean[outliers]\n",
    "print(outlier_rows)\n"
   ]
  },
  {
   "cell_type": "code",
   "execution_count": 15,
   "metadata": {},
   "outputs": [
    {
     "data": {
      "text/plain": [
       "Bearer Id                         0.660662\n",
       "Start                             0.000667\n",
       "Start ms                          0.000667\n",
       "End                               0.000667\n",
       "End ms                            0.000667\n",
       "Dur. (ms)                         0.000667\n",
       "IMSI                              0.379997\n",
       "MSISDN/Number                     0.710662\n",
       "IMEI                              0.381331\n",
       "Last Location Name                0.768662\n",
       "Avg RTT DL (ms)                   0.000667\n",
       "Avg RTT UL (ms)                   0.000000\n",
       "Avg Bearer TP DL (kbps)           0.000667\n",
       "Avg Bearer TP UL (kbps)           0.000667\n",
       "TCP DL Retrans. Vol (Bytes)       0.004667\n",
       "TCP UL Retrans. Vol (Bytes)       0.003333\n",
       "DL TP < 50 Kbps (%)               0.502663\n",
       "50 Kbps < DL TP < 250 Kbps (%)    0.502663\n",
       "250 Kbps < DL TP < 1 Mbps (%)     0.502663\n",
       "DL TP > 1 Mbps (%)                0.502663\n",
       "UL TP < 10 Kbps (%)               0.527996\n",
       "10 Kbps < UL TP < 50 Kbps (%)     0.527996\n",
       "50 Kbps < UL TP < 300 Kbps (%)    0.527996\n",
       "UL TP > 300 Kbps (%)              0.527996\n",
       "Activity Duration DL (ms)         0.000667\n",
       "Activity Duration UL (ms)         0.000667\n",
       "Dur. (ms).1                       0.000667\n",
       "Handset Manufacturer              0.381331\n",
       "Handset Type                      0.381331\n",
       "Nb of sec with Vol DL < 6250B     0.503330\n",
       "Nb of sec with Vol UL < 1250B     0.528663\n",
       "Social Media DL (Bytes)           0.000000\n",
       "Social Media UL (Bytes)           0.000000\n",
       "Google DL (Bytes)                 0.000000\n",
       "Google UL (Bytes)                 0.000000\n",
       "Email DL (Bytes)                  0.000000\n",
       "Email UL (Bytes)                  0.000000\n",
       "Youtube DL (Bytes)                0.000000\n",
       "Youtube UL (Bytes)                0.000000\n",
       "Netflix DL (Bytes)                0.000000\n",
       "Netflix UL (Bytes)                0.000000\n",
       "Gaming DL (Bytes)                 0.000000\n",
       "Gaming UL (Bytes)                 0.000000\n",
       "Other DL (Bytes)                  0.000000\n",
       "Other UL (Bytes)                  0.000000\n",
       "Total UL (Bytes)                  0.000667\n",
       "Total DL (Bytes)                  0.000667\n",
       "dtype: float64"
      ]
     },
     "execution_count": 15,
     "metadata": {},
     "output_type": "execute_result"
    }
   ],
   "source": [
    "# Calculate the percentage of null values in each column\n",
    "null_percentage = df_clean.isnull().mean() * 100\n",
    "\n",
    "# Display the null percentage for each column\n",
    "null_percentage"
   ]
  },
  {
   "cell_type": "code",
   "execution_count": 17,
   "metadata": {},
   "outputs": [
    {
     "data": {
      "text/plain": [
       "(150001, 47)"
      ]
     },
     "execution_count": 17,
     "metadata": {},
     "output_type": "execute_result"
    }
   ],
   "source": [
    "# Display the Shape of Our Data\n",
    "df_clean.shape"
   ]
  },
  {
   "cell_type": "code",
   "execution_count": 18,
   "metadata": {},
   "outputs": [
    {
     "data": {
      "text/plain": [
       "(146880, 47)"
      ]
     },
     "execution_count": 18,
     "metadata": {},
     "output_type": "execute_result"
    }
   ],
   "source": [
    "# Drop rows with any missing values\n",
    "df_clean.dropna(inplace=True)\n",
    "df_clean.shape\n"
   ]
  },
  {
   "cell_type": "code",
   "execution_count": 19,
   "metadata": {},
   "outputs": [
    {
     "data": {
      "text/plain": [
       "Bearer Id                         2.892809e+18\n",
       "Start ms                          2.885597e+02\n",
       "End ms                            2.880749e+02\n",
       "Dur. (ms)                         8.049000e+04\n",
       "IMSI                              1.334754e+09\n",
       "MSISDN/Number                     8.792355e+11\n",
       "IMEI                              2.238851e+13\n",
       "Avg RTT DL (ms)                   5.535062e+02\n",
       "Avg RTT UL (ms)                   8.470492e+01\n",
       "Avg Bearer TP DL (kbps)           2.408217e+04\n",
       "Avg Bearer TP UL (kbps)           4.650710e+03\n",
       "TCP DL Retrans. Vol (Bytes)       1.652241e+08\n",
       "TCP UL Retrans. Vol (Bytes)       2.220814e+07\n",
       "DL TP < 50 Kbps (%)               1.305455e+01\n",
       "50 Kbps < DL TP < 250 Kbps (%)    6.212860e+00\n",
       "250 Kbps < DL TP < 1 Mbps (%)     4.161585e+00\n",
       "DL TP > 1 Mbps (%)                4.838817e+00\n",
       "UL TP < 10 Kbps (%)               4.643201e+00\n",
       "10 Kbps < UL TP < 50 Kbps (%)     3.230792e+00\n",
       "50 Kbps < UL TP < 300 Kbps (%)    1.613163e+00\n",
       "UL TP > 300 Kbps (%)              1.304094e+00\n",
       "Activity Duration DL (ms)         5.745179e+06\n",
       "Activity Duration UL (ms)         4.684859e+06\n",
       "Dur. (ms).1                       8.048999e+07\n",
       "Nb of sec with Vol DL < 6250B     9.224831e+03\n",
       "Nb of sec with Vol UL < 1250B     1.021661e+04\n",
       "Social Media DL (Bytes)           1.035412e+06\n",
       "Social Media UL (Bytes)           1.900519e+04\n",
       "Google DL (Bytes)                 3.309593e+06\n",
       "Google UL (Bytes)                 1.189847e+06\n",
       "Email DL (Bytes)                  1.036017e+06\n",
       "Email UL (Bytes)                  2.700081e+05\n",
       "Youtube DL (Bytes)                6.710430e+06\n",
       "Youtube UL (Bytes)                6.345220e+06\n",
       "Netflix DL (Bytes)                6.724994e+06\n",
       "Netflix UL (Bytes)                6.357295e+06\n",
       "Gaming DL (Bytes)                 2.440396e+08\n",
       "Gaming UL (Bytes)                 4.781512e+06\n",
       "Other DL (Bytes)                  2.431413e+08\n",
       "Other UL (Bytes)                  4.768592e+06\n",
       "Total UL (Bytes)                  1.127787e+07\n",
       "Total DL (Bytes)                  2.442090e+08\n",
       "dtype: float64"
      ]
     },
     "execution_count": 19,
     "metadata": {},
     "output_type": "execute_result"
    }
   ],
   "source": [
    "# Exclude non-numeric columns from the DataFrame\n",
    "numeric_columns = df_clean.select_dtypes(include=['number'])\n",
    "# Calculate the standard deviation for each numeric column\n",
    "std_deviation_per_column = numeric_columns.std()\n",
    "std_deviation_per_column\n",
    "\n"
   ]
  },
  {
   "cell_type": "code",
   "execution_count": 21,
   "metadata": {},
   "outputs": [
    {
     "data": {
      "text/plain": [
       "(146880, 47)"
      ]
     },
     "execution_count": 21,
     "metadata": {},
     "output_type": "execute_result"
    }
   ],
   "source": [
    "# Dispaly the Shape of the Data\n",
    "df_clean.shape"
   ]
  },
  {
   "cell_type": "code",
   "execution_count": 22,
   "metadata": {},
   "outputs": [
    {
     "data": {
      "text/plain": [
       "(146880, 47)"
      ]
     },
     "execution_count": 22,
     "metadata": {},
     "output_type": "execute_result"
    }
   ],
   "source": [
    "# Copy our data frame\n",
    "df_clean_copy=df_clean.copy()\n",
    "df_clean_copy.shape"
   ]
  },
  {
   "cell_type": "code",
   "execution_count": 64,
   "metadata": {},
   "outputs": [],
   "source": [
    "#Here is how I handle the outliers, \n",
    "def fix_outliers(df_clean_copy: pd.DataFrame):\n",
    "     \n",
    "            #Replace Outlier values\n",
    "            for col in df_clean_copy.select_dtypes('float64').columns.tolist():\n",
    "                Q1 = df_clean_copy[col].quantile(0.25)\n",
    "                Q3 = df_clean_copy[col].quantile(0.75)\n",
    "                IQR = Q3 - Q1\n",
    "                lower = Q1 - (IQR * 1.5)\n",
    "                upper = Q3 + (IQR * 1.5)\n",
    "                df_clean_copy[col] = np.where(df_clean_copy[col] > upper, upper, df_clean_copy[col])\n",
    "                df_clean_copy[col] = np.where(df_clean_copy[col] < lower, lower, df_clean_copy[col])\n",
    "                # logger.info('Fix outliers')\n",
    "      \n",
    "            return df_clean_copy\n"
   ]
  },
  {
   "cell_type": "code",
   "execution_count": 65,
   "metadata": {},
   "outputs": [
    {
     "data": {
      "text/plain": [
       "(146880, 47)"
      ]
     },
     "execution_count": 65,
     "metadata": {},
     "output_type": "execute_result"
    }
   ],
   "source": [
    "df_final=fix_outliers(df_clean_copy)\n",
    "df_final.shape"
   ]
  },
  {
   "cell_type": "code",
   "execution_count": null,
   "metadata": {},
   "outputs": [],
   "source": []
  },
  {
   "cell_type": "code",
   "execution_count": 31,
   "metadata": {},
   "outputs": [
    {
     "name": "stdout",
     "output_type": "stream",
     "text": [
      "Index(['Category', 'Percentage'], dtype='object')\n"
     ]
    }
   ],
   "source": [
    "print(df_clean.columns)"
   ]
  },
  {
   "cell_type": "code",
   "execution_count": 66,
   "metadata": {},
   "outputs": [
    {
     "data": {
      "image/png": "[encoded data removed]",
      "text/plain": [
       "<Figure size 1000x600 with 1 Axes>"
      ]
     },
     "metadata": {},
     "output_type": "display_data"
    }
   ],
   "source": [
    "# Assuming df_clean is your DataFrame\n",
    "columns_of_interest = [\"Avg RTT DL (ms)\", \"Avg RTT UL (ms)\", \"Avg Bearer TP DL (kbps)\", \"Avg Bearer TP UL (kbps)\"]\n",
    "# Create a boxplot\n",
    "plt.figure(figsize=(10, 6))\n",
    "sns.boxplot(data=df_final[columns_of_interest])\n",
    "plt.title('Boxplot of Network Performance Metrics')\n",
    "plt.ylabel('Values')\n",
    "plt.show()"
   ]
  },
  {
   "cell_type": "code",
   "execution_count": 68,
   "metadata": {},
   "outputs": [
    {
     "data": {
      "image/png": "[encoded data removed]",
      "text/plain": [
       "<Figure size 1000x600 with 1 Axes>"
      ]
     },
     "metadata": {},
     "output_type": "display_data"
    }
   ],
   "source": [
    "# Assuming df_clean is your DataFrame\n",
    "columns_of_interest = [\"Avg RTT DL (ms)\", \"Avg RTT UL (ms)\"]\n",
    "# Create a boxplot\n",
    "plt.figure(figsize=(10, 6))\n",
    "sns.boxplot(data=df_final[columns_of_interest])\n",
    "plt.title('Boxplot of Network Performance Metrics')\n",
    "plt.ylabel('Values')\n",
    "plt.show()"
   ]
  },
  {
   "cell_type": "code",
   "execution_count": 69,
   "metadata": {},
   "outputs": [],
   "source": [
    "# Assuming df_clean is your final cleaned DataFrame\n",
    "# Replace 'df_clean' with the actual name of your DataFrame\n",
    "\n",
    "# Specify the file path and name for the CSV file\n",
    "file_path = '../data/cleaned_data.csv'\n",
    "\n",
    "# Save the DataFrame to a CSV file\n",
    "df_final.to_csv(file_path, index=False)\n"
   ]
  }
 ],
 "metadata": {
  "kernelspec": {
   "display_name": "myenv",
   "language": "python",
   "name": "python3"
  },
  "language_info": {
   "codemirror_mode": {
    "name": "ipython",
    "version": 3
   },
   "file_extension": ".py",
   "mimetype": "text/x-python",
   "name": "python",
   "nbconvert_exporter": "python",
   "pygments_lexer": "ipython3",
   "version": "3.11.6"
  }
 },
 "nbformat": 4,
 "nbformat_minor": 2
}
